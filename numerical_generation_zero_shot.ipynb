{
 "cells": [
  {
   "cell_type": "code",
   "execution_count": 1,
   "id": "872807b4-4616-45f1-b1af-c7dd846c6eca",
   "metadata": {},
   "outputs": [
    {
     "name": "stderr",
     "output_type": "stream",
     "text": [
      "2023-12-05 08:02:28.810552: I tensorflow/core/util/port.cc:111] oneDNN custom operations are on. You may see slightly different numerical results due to floating-point round-off errors from different computation orders. To turn them off, set the environment variable `TF_ENABLE_ONEDNN_OPTS=0`.\n",
      "2023-12-05 08:02:28.814732: I tensorflow/tsl/cuda/cudart_stub.cc:28] Could not find cuda drivers on your machine, GPU will not be used.\n",
      "2023-12-05 08:02:28.863792: E tensorflow/compiler/xla/stream_executor/cuda/cuda_dnn.cc:9342] Unable to register cuDNN factory: Attempting to register factory for plugin cuDNN when one has already been registered\n",
      "2023-12-05 08:02:28.863842: E tensorflow/compiler/xla/stream_executor/cuda/cuda_fft.cc:609] Unable to register cuFFT factory: Attempting to register factory for plugin cuFFT when one has already been registered\n",
      "2023-12-05 08:02:28.863875: E tensorflow/compiler/xla/stream_executor/cuda/cuda_blas.cc:1518] Unable to register cuBLAS factory: Attempting to register factory for plugin cuBLAS when one has already been registered\n",
      "2023-12-05 08:02:28.871673: I tensorflow/tsl/cuda/cudart_stub.cc:28] Could not find cuda drivers on your machine, GPU will not be used.\n",
      "2023-12-05 08:02:28.872408: I tensorflow/core/platform/cpu_feature_guard.cc:182] This TensorFlow binary is optimized to use available CPU instructions in performance-critical operations.\n",
      "To enable the following instructions: AVX2 AVX512F AVX512_VNNI FMA, in other operations, rebuild TensorFlow with the appropriate compiler flags.\n",
      "2023-12-05 08:02:30.032924: W tensorflow/compiler/tf2tensorrt/utils/py_utils.cc:38] TF-TRT Warning: Could not find TensorRT\n"
     ]
    }
   ],
   "source": [
    "from transformers import pipeline\n",
    "from tqdm import tqdm\n",
    "\n",
    "import json\n",
    "import os\n",
    "import re"
   ]
  },
  {
   "cell_type": "code",
   "execution_count": 2,
   "id": "476d701e-19ef-4e93-bc41-14e9e667649d",
   "metadata": {},
   "outputs": [
    {
     "name": "stderr",
     "output_type": "stream",
     "text": [
      "Some weights of the model checkpoint at xlm-roberta-base were not used when initializing XLMRobertaForMaskedLM: ['roberta.pooler.dense.bias', 'roberta.pooler.dense.weight']\n",
      "- This IS expected if you are initializing XLMRobertaForMaskedLM from the checkpoint of a model trained on another task or with another architecture (e.g. initializing a BertForSequenceClassification model from a BertForPreTraining model).\n",
      "- This IS NOT expected if you are initializing XLMRobertaForMaskedLM from the checkpoint of a model that you expect to be exactly identical (initializing a BertForSequenceClassification model from a BertForSequenceClassification model).\n"
     ]
    }
   ],
   "source": [
    "unmasker = pipeline('fill-mask', model='xlm-roberta-base')"
   ]
  },
  {
   "cell_type": "code",
   "execution_count": 5,
   "id": "b6b104ac-eed5-4118-8140-6aece3a5efa3",
   "metadata": {},
   "outputs": [],
   "source": [
    "def load_json(file, path='../NumEval - Task 3/'):\n",
    "    with open(os.path.join(path, file), 'r') as json_file:\n",
    "        data = json.load(json_file)\n",
    "    return data\n",
    "\n",
    "'''\n",
    "read train and dev files\n",
    "'''\n",
    "train_data = load_json('Train_Numerical_Reasoning.json')\n",
    "dev_data = load_json('Dev_Numerical_Reasoning.json')"
   ]
  },
  {
   "cell_type": "code",
   "execution_count": 6,
   "id": "14c28256-ab52-4b54-ba55-fb8923aa089a",
   "metadata": {},
   "outputs": [],
   "source": [
    "def remove_date(text):\n",
    "    # Define a regular expression pattern to match the date part within brackets\n",
    "    date_pattern = r'\\([^)]*\\)'\n",
    "    date_pattern = r'^\\([^)]+\\)\\s*'\n",
    "    # Use re.sub to replace the matched pattern with an empty string\n",
    "    cleaned_text = re.sub(date_pattern, '', text)\n",
    "\n",
    "    return cleaned_text.strip()"
   ]
  },
  {
   "cell_type": "code",
   "execution_count": 7,
   "id": "3f1ea6e4-1103-40d3-9467-4bd1ee85f527",
   "metadata": {},
   "outputs": [],
   "source": [
    "def process_data(sample, num_gt, replace_token='mask', task='train'):\n",
    "    '''\n",
    "    teacher forcing only during training, hence reasoning prompt would be prepended only to the train samples\n",
    "    '''\n",
    "    \n",
    "    news = sample['news']\n",
    "    masked_headline = sample['masked headline']\n",
    "    calculation = sample['calculation']\n",
    "    ans = str(sample['ans'])\n",
    "    num_gt.append(ans)\n",
    "    \n",
    "    prompt = news + \" \" + masked_headline.replace('____', '<mask>')\n",
    "    return remove_date(prompt)"
   ]
  },
  {
   "cell_type": "code",
   "execution_count": 42,
   "id": "18994364-9588-4beb-a72d-c5916ba77b5a",
   "metadata": {},
   "outputs": [],
   "source": [
    "train_num_gt = []\n",
    "dev_num_gt = []\n",
    "processed_train = [process_data(sample, train_num_gt) for sample in train_data]\n",
    "processed_dev = [process_data(sample, dev_num_gt) for sample in dev_data]"
   ]
  },
  {
   "cell_type": "code",
   "execution_count": 39,
   "id": "d8729baf-4251-4718-bf25-8f1bfa49d615",
   "metadata": {
    "scrolled": true,
    "tags": []
   },
   "outputs": [
    {
     "name": "stderr",
     "output_type": "stream",
     "text": [
      "1171it [03:13,  7.21it/s]"
     ]
    },
    {
     "name": "stdout",
     "output_type": "stream",
     "text": [
      "Error raised at i = 1169; Continue\n"
     ]
    },
    {
     "name": "stderr",
     "output_type": "stream",
     "text": [
      "1187it [03:15,  6.51it/s]"
     ]
    },
    {
     "name": "stdout",
     "output_type": "stream",
     "text": [
      "Error raised at i = 1187; Continue\n"
     ]
    },
    {
     "name": "stderr",
     "output_type": "stream",
     "text": [
      "2572it [07:25,  5.77it/s]\n"
     ]
    }
   ],
   "source": [
    "'''\n",
    "zero-shot evaluation\n",
    "'''\n",
    "dev_num_preds = []\n",
    "exceptions = []\n",
    "\n",
    "for i, prompt in tqdm(enumerate(processed_dev)):\n",
    "    try:\n",
    "        val = unmasker(prompt)\n",
    "        flag=0\n",
    "        for res in val:\n",
    "            if res['token_str'].isnumeric():\n",
    "                dev_num_preds.append(res['token_str'])\n",
    "                flag=1\n",
    "                break\n",
    "        if flag==0:\n",
    "            dev_num_preds.append(val[0]['token_str'])\n",
    "    except Exception as error:\n",
    "        print(f\"Error raised at i = {i}; Continue\")\n",
    "        exceptions.append(i)\n",
    "        continue"
   ]
  },
  {
   "cell_type": "code",
   "execution_count": 41,
   "id": "fcd68577-64cb-40d8-b2b9-2f7e74df8268",
   "metadata": {},
   "outputs": [
    {
     "data": {
      "text/plain": [
       "2570"
      ]
     },
     "execution_count": 41,
     "metadata": {},
     "output_type": "execute_result"
    }
   ],
   "source": [
    "len(dev_num_preds)"
   ]
  },
  {
   "cell_type": "code",
   "execution_count": 44,
   "id": "1bcc01b7-c847-4172-a13b-13ff736eeb4e",
   "metadata": {},
   "outputs": [],
   "source": [
    "del dev_num_gt[1169]"
   ]
  },
  {
   "cell_type": "code",
   "execution_count": 45,
   "id": "16c92065-398e-4c2b-8f00-1170a8470f05",
   "metadata": {},
   "outputs": [],
   "source": [
    "del dev_num_gt[1187]"
   ]
  },
  {
   "cell_type": "code",
   "execution_count": 46,
   "id": "f1feaf0a-5c94-45df-bfab-26f146a47a0b",
   "metadata": {},
   "outputs": [
    {
     "data": {
      "text/plain": [
       "2570"
      ]
     },
     "execution_count": 46,
     "metadata": {},
     "output_type": "execute_result"
    }
   ],
   "source": [
    "len(dev_num_gt)"
   ]
  },
  {
   "cell_type": "code",
   "execution_count": 22,
   "id": "e3a50c17-5441-4e58-b899-2a9fc5f7045e",
   "metadata": {},
   "outputs": [],
   "source": [
    "from sklearn.metrics import accuracy_score"
   ]
  },
  {
   "cell_type": "code",
   "execution_count": 47,
   "id": "f570118b-2505-473a-992b-b93207c42069",
   "metadata": {},
   "outputs": [
    {
     "data": {
      "text/plain": [
       "0.58715953307393"
      ]
     },
     "execution_count": 47,
     "metadata": {},
     "output_type": "execute_result"
    }
   ],
   "source": [
    "accuracy_score(dev_num_preds, dev_num_gt)"
   ]
  }
 ],
 "metadata": {
  "kernelspec": {
   "display_name": "Python 3 (ipykernel)",
   "language": "python",
   "name": "python3"
  },
  "language_info": {
   "codemirror_mode": {
    "name": "ipython",
    "version": 3
   },
   "file_extension": ".py",
   "mimetype": "text/x-python",
   "name": "python",
   "nbconvert_exporter": "python",
   "pygments_lexer": "ipython3",
   "version": "3.9.12"
  }
 },
 "nbformat": 4,
 "nbformat_minor": 5
}
