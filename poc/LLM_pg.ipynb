{
 "cells": [
  {
   "cell_type": "code",
   "execution_count": 1,
   "id": "df3b32e7-09c8-44db-9f51-0c31b0c588f5",
   "metadata": {},
   "outputs": [
    {
     "name": "stderr",
     "output_type": "stream",
     "text": [
      "2023-11-23 22:10:34.911118: I tensorflow/core/util/port.cc:111] oneDNN custom operations are on. You may see slightly different numerical results due to floating-point round-off errors from different computation orders. To turn them off, set the environment variable `TF_ENABLE_ONEDNN_OPTS=0`.\n",
      "2023-11-23 22:10:34.913643: I tensorflow/tsl/cuda/cudart_stub.cc:28] Could not find cuda drivers on your machine, GPU will not be used.\n",
      "2023-11-23 22:10:34.951643: E tensorflow/compiler/xla/stream_executor/cuda/cuda_dnn.cc:9342] Unable to register cuDNN factory: Attempting to register factory for plugin cuDNN when one has already been registered\n",
      "2023-11-23 22:10:34.951671: E tensorflow/compiler/xla/stream_executor/cuda/cuda_fft.cc:609] Unable to register cuFFT factory: Attempting to register factory for plugin cuFFT when one has already been registered\n",
      "2023-11-23 22:10:34.951702: E tensorflow/compiler/xla/stream_executor/cuda/cuda_blas.cc:1518] Unable to register cuBLAS factory: Attempting to register factory for plugin cuBLAS when one has already been registered\n",
      "2023-11-23 22:10:34.959512: I tensorflow/tsl/cuda/cudart_stub.cc:28] Could not find cuda drivers on your machine, GPU will not be used.\n",
      "2023-11-23 22:10:34.960067: I tensorflow/core/platform/cpu_feature_guard.cc:182] This TensorFlow binary is optimized to use available CPU instructions in performance-critical operations.\n",
      "To enable the following instructions: AVX2 AVX512F AVX512_VNNI FMA, in other operations, rebuild TensorFlow with the appropriate compiler flags.\n",
      "2023-11-23 22:10:35.834003: W tensorflow/compiler/tf2tensorrt/utils/py_utils.cc:38] TF-TRT Warning: Could not find TensorRT\n"
     ]
    }
   ],
   "source": [
    "import openai\n",
    "import json\n",
    "import os\n",
    "\n",
    "from transformers import XLMRobertaTokenizer\n",
    "from transformers import pipeline"
   ]
  },
  {
   "cell_type": "code",
   "execution_count": 6,
   "id": "8b9f8445-d8ed-42cb-97cd-0257e93b7491",
   "metadata": {},
   "outputs": [],
   "source": [
    "'''\n",
    "read config file\n",
    "'''\n",
    "config_file='config.json' #expected that you keep it in the current directory\n",
    "with open(os.path.join('./', config_file), 'r') as json_file:\n",
    "    config = json.load(json_file)"
   ]
  },
  {
   "cell_type": "code",
   "execution_count": 7,
   "id": "d4c42f85-0988-4567-823b-4c3043b2dffc",
   "metadata": {},
   "outputs": [
    {
     "data": {
      "text/plain": [
       "{'model_name': 'xlm-roberta-base',\n",
       " 'file': 'Train_Numerical_Reasoning.json',\n",
       " 'path': '../NumEval - Task 3/'}"
      ]
     },
     "execution_count": 7,
     "metadata": {},
     "output_type": "execute_result"
    }
   ],
   "source": [
    "config"
   ]
  },
  {
   "cell_type": "code",
   "execution_count": 8,
   "id": "899ed4c0-1f9b-440e-b33f-16ef6311040e",
   "metadata": {},
   "outputs": [],
   "source": [
    "path=config['path']\n",
    "file=config['file']"
   ]
  },
  {
   "cell_type": "code",
   "execution_count": 9,
   "id": "d884cf30-dad8-4907-b13a-94cc17c57959",
   "metadata": {},
   "outputs": [],
   "source": [
    "with open(os.path.join(path, file), 'r') as json_file:\n",
    "    data = json.load(json_file)"
   ]
  },
  {
   "cell_type": "code",
   "execution_count": 10,
   "id": "8e761d23-cb8b-49db-9859-614985718771",
   "metadata": {},
   "outputs": [
    {
     "name": "stderr",
     "output_type": "stream",
     "text": [
      "Some weights of the model checkpoint at xlm-roberta-base were not used when initializing XLMRobertaForMaskedLM: ['roberta.pooler.dense.bias', 'roberta.pooler.dense.weight']\n",
      "- This IS expected if you are initializing XLMRobertaForMaskedLM from the checkpoint of a model trained on another task or with another architecture (e.g. initializing a BertForSequenceClassification model from a BertForPreTraining model).\n",
      "- This IS NOT expected if you are initializing XLMRobertaForMaskedLM from the checkpoint of a model that you expect to be exactly identical (initializing a BertForSequenceClassification model from a BertForSequenceClassification model).\n"
     ]
    }
   ],
   "source": [
    "model_name=config['model_name']\n",
    "classifier = pipeline(\"fill-mask\", model=model_name)\n",
    "tokenizer = XLMRobertaTokenizer.from_pretrained(model_name)\n",
    "MASK_TOKEN = tokenizer.mask_token"
   ]
  },
  {
   "cell_type": "code",
   "execution_count": 11,
   "id": "1db5860b-f526-4930-9cef-d8c6e1ee0d99",
   "metadata": {},
   "outputs": [],
   "source": [
    "def get_input_data(inp_id):\n",
    "    \n",
    "    X = (data[inp_id]['news'] + data[inp_id]['masked headline']).replace('____', MASK_TOKEN)\n",
    "    Y = (data[inp_id]['news'] + data[inp_id]['masked headline']).replace('____',  data[inp_id]['ans'])\n",
    "    return X, Y\n",
    "\n",
    "def get_prompt(data):\n",
    "    prompt = \"Read the news article and fill in the mask in the last sentence. The answer is present in the text and it is a numeric value. \" + data    \n",
    "    return prompt"
   ]
  },
  {
   "cell_type": "code",
   "execution_count": 13,
   "id": "86a6f8c1-8367-4d1f-93a0-d65348688956",
   "metadata": {},
   "outputs": [
    {
     "data": {
      "text/plain": [
       "\"Read the news article and fill in the mask in the last sentence. The answer is present in the text and it is a numeric value. (Mar 6, 2016  10:50 AM) Nancy Reagan, the helpmate, backstage adviser, and fierce protector of Ronald Reagan in his journey from actor to president—and finally during his 10-year battle with Alzheimer's disease—died Sunday at the age of 94, reports the AP, via CBS News. The cause was congestive heart failure, notes ABC News. In addition to her famous campaign against drugs, the one-time actress promoted several causes while she was in the White House and even in the years after. She was a passionate advocate for lifting restrictions on stem cell research and promoting better treatment of America's veterans. But above all, Nancy Reagan was a fiercely devoted wife.  My life began with Ronnie,  she told Vanity Fair magazine in 1998. The first lady's public life had its share of controversy but also earned the respect of the nation, making Nancy Reagan one of America's most admired women in the 1980s and beyond. Anne Frances  Nancy  Robbins was born on July 6, 1921 in New York City to Kenneth Robbins, a car salesman, and Edith Luckett Robbins, an actress. She met Ronald Reagan in 1950, when he was president of the Screen Actors Guild and she was seeking help with a problem: Her name had been wrongly included on a published list of suspected communist sympathizers. They discussed it over dinner, and she later wrote that she realized on that first blind date  he was everything that I wanted.  They wed two years later, on March 4, 1952. She was thrust into the political life when her husband ran for California governor in 1966 and won. She found it a surprisingly rough business.  The movies were custard compared to politics,  she said. The couple had two children together, Patricia Ann and Ronald Prescott. Reagan will be buried next to her late husband at the Ronald Reagan Presidential Library in Simi Valley, California. The New York Times has a full obituary here.Nancy Reagan Dead at <mask>\""
      ]
     },
     "execution_count": 13,
     "metadata": {},
     "output_type": "execute_result"
    }
   ],
   "source": [
    "'''\n",
    "Example 1\n",
    "'''\n",
    "X, Y = get_input_data(2)\n",
    "prompt = get_prompt(X)\n",
    "prompt"
   ]
  },
  {
   "cell_type": "code",
   "execution_count": 14,
   "id": "83ccae4a-225c-4e18-b4ca-11e93a78825d",
   "metadata": {},
   "outputs": [
    {
     "data": {
      "text/plain": [
       "\"(Mar 6, 2016  10:50 AM) Nancy Reagan, the helpmate, backstage adviser, and fierce protector of Ronald Reagan in his journey from actor to president—and finally during his 10-year battle with Alzheimer's disease—died Sunday at the age of 94, reports the AP, via CBS News. The cause was congestive heart failure, notes ABC News. In addition to her famous campaign against drugs, the one-time actress promoted several causes while she was in the White House and even in the years after. She was a passionate advocate for lifting restrictions on stem cell research and promoting better treatment of America's veterans. But above all, Nancy Reagan was a fiercely devoted wife.  My life began with Ronnie,  she told Vanity Fair magazine in 1998. The first lady's public life had its share of controversy but also earned the respect of the nation, making Nancy Reagan one of America's most admired women in the 1980s and beyond. Anne Frances  Nancy  Robbins was born on July 6, 1921 in New York City to Kenneth Robbins, a car salesman, and Edith Luckett Robbins, an actress. She met Ronald Reagan in 1950, when he was president of the Screen Actors Guild and she was seeking help with a problem: Her name had been wrongly included on a published list of suspected communist sympathizers. They discussed it over dinner, and she later wrote that she realized on that first blind date  he was everything that I wanted.  They wed two years later, on March 4, 1952. She was thrust into the political life when her husband ran for California governor in 1966 and won. She found it a surprisingly rough business.  The movies were custard compared to politics,  she said. The couple had two children together, Patricia Ann and Ronald Prescott. Reagan will be buried next to her late husband at the Ronald Reagan Presidential Library in Simi Valley, California. The New York Times has a full obituary here.Nancy Reagan Dead at 94\""
      ]
     },
     "execution_count": 14,
     "metadata": {},
     "output_type": "execute_result"
    }
   ],
   "source": [
    "Y"
   ]
  },
  {
   "cell_type": "code",
   "execution_count": 15,
   "id": "3475d441-64b5-430e-a771-4f38e4a33e5d",
   "metadata": {
    "scrolled": true,
    "tags": []
   },
   "outputs": [
    {
     "data": {
      "text/plain": [
       "[{'score': 0.9198079705238342,\n",
       "  'token': 16064,\n",
       "  'token_str': '94',\n",
       "  'sequence': \"Read the news article and fill in the mask in the last sentence. The answer is present in the text and it is a numeric value. (Mar 6, 2016 10:50 AM) Nancy Reagan, the helpmate, backstage adviser, and fierce protector of Ronald Reagan in his journey from actor to president—and finally during his 10-year battle with Alzheimer's disease—died Sunday at the age of 94, reports the AP, via CBS News. The cause was congestive heart failure, notes ABC News. In addition to her famous campaign against drugs, the one-time actress promoted several causes while she was in the White House and even in the years after. She was a passionate advocate for lifting restrictions on stem cell research and promoting better treatment of America's veterans. But above all, Nancy Reagan was a fiercely devoted wife. My life began with Ronnie, she told Vanity Fair magazine in 1998. The first lady's public life had its share of controversy but also earned the respect of the nation, making Nancy Reagan one of America's most admired women in the 1980s and beyond. Anne Frances Nancy Robbins was born on July 6, 1921 in New York City to Kenneth Robbins, a car salesman, and Edith Luckett Robbins, an actress. She met Ronald Reagan in 1950, when he was president of the Screen Actors Guild and she was seeking help with a problem: Her name had been wrongly included on a published list of suspected communist sympathizers. They discussed it over dinner, and she later wrote that she realized on that first blind date he was everything that I wanted. They wed two years later, on March 4, 1952. She was thrust into the political life when her husband ran for California governor in 1966 and won. She found it a surprisingly rough business. The movies were custard compared to politics, she said. The couple had two children together, Patricia Ann and Ronald Prescott. Reagan will be buried next to her late husband at the Ronald Reagan Presidential Library in Simi Valley, California. The New York Times has a full obituary here.Nancy Reagan Dead at 94\"},\n",
       " {'score': 0.01682644709944725,\n",
       "  'token': 17461,\n",
       "  'token_str': '93',\n",
       "  'sequence': \"Read the news article and fill in the mask in the last sentence. The answer is present in the text and it is a numeric value. (Mar 6, 2016 10:50 AM) Nancy Reagan, the helpmate, backstage adviser, and fierce protector of Ronald Reagan in his journey from actor to president—and finally during his 10-year battle with Alzheimer's disease—died Sunday at the age of 94, reports the AP, via CBS News. The cause was congestive heart failure, notes ABC News. In addition to her famous campaign against drugs, the one-time actress promoted several causes while she was in the White House and even in the years after. She was a passionate advocate for lifting restrictions on stem cell research and promoting better treatment of America's veterans. But above all, Nancy Reagan was a fiercely devoted wife. My life began with Ronnie, she told Vanity Fair magazine in 1998. The first lady's public life had its share of controversy but also earned the respect of the nation, making Nancy Reagan one of America's most admired women in the 1980s and beyond. Anne Frances Nancy Robbins was born on July 6, 1921 in New York City to Kenneth Robbins, a car salesman, and Edith Luckett Robbins, an actress. She met Ronald Reagan in 1950, when he was president of the Screen Actors Guild and she was seeking help with a problem: Her name had been wrongly included on a published list of suspected communist sympathizers. They discussed it over dinner, and she later wrote that she realized on that first blind date he was everything that I wanted. They wed two years later, on March 4, 1952. She was thrust into the political life when her husband ran for California governor in 1966 and won. She found it a surprisingly rough business. The movies were custard compared to politics, she said. The couple had two children together, Patricia Ann and Ronald Prescott. Reagan will be buried next to her late husband at the Ronald Reagan Presidential Library in Simi Valley, California. The New York Times has a full obituary here.Nancy Reagan Dead at 93\"},\n",
       " {'score': 0.01357987243682146,\n",
       "  'token': 9199,\n",
       "  'token_str': '95',\n",
       "  'sequence': \"Read the news article and fill in the mask in the last sentence. The answer is present in the text and it is a numeric value. (Mar 6, 2016 10:50 AM) Nancy Reagan, the helpmate, backstage adviser, and fierce protector of Ronald Reagan in his journey from actor to president—and finally during his 10-year battle with Alzheimer's disease—died Sunday at the age of 94, reports the AP, via CBS News. The cause was congestive heart failure, notes ABC News. In addition to her famous campaign against drugs, the one-time actress promoted several causes while she was in the White House and even in the years after. She was a passionate advocate for lifting restrictions on stem cell research and promoting better treatment of America's veterans. But above all, Nancy Reagan was a fiercely devoted wife. My life began with Ronnie, she told Vanity Fair magazine in 1998. The first lady's public life had its share of controversy but also earned the respect of the nation, making Nancy Reagan one of America's most admired women in the 1980s and beyond. Anne Frances Nancy Robbins was born on July 6, 1921 in New York City to Kenneth Robbins, a car salesman, and Edith Luckett Robbins, an actress. She met Ronald Reagan in 1950, when he was president of the Screen Actors Guild and she was seeking help with a problem: Her name had been wrongly included on a published list of suspected communist sympathizers. They discussed it over dinner, and she later wrote that she realized on that first blind date he was everything that I wanted. They wed two years later, on March 4, 1952. She was thrust into the political life when her husband ran for California governor in 1966 and won. She found it a surprisingly rough business. The movies were custard compared to politics, she said. The couple had two children together, Patricia Ann and Ronald Prescott. Reagan will be buried next to her late husband at the Ronald Reagan Presidential Library in Simi Valley, California. The New York Times has a full obituary here.Nancy Reagan Dead at 95\"},\n",
       " {'score': 0.011788410134613514,\n",
       "  'token': 15671,\n",
       "  'token_str': '92',\n",
       "  'sequence': \"Read the news article and fill in the mask in the last sentence. The answer is present in the text and it is a numeric value. (Mar 6, 2016 10:50 AM) Nancy Reagan, the helpmate, backstage adviser, and fierce protector of Ronald Reagan in his journey from actor to president—and finally during his 10-year battle with Alzheimer's disease—died Sunday at the age of 94, reports the AP, via CBS News. The cause was congestive heart failure, notes ABC News. In addition to her famous campaign against drugs, the one-time actress promoted several causes while she was in the White House and even in the years after. She was a passionate advocate for lifting restrictions on stem cell research and promoting better treatment of America's veterans. But above all, Nancy Reagan was a fiercely devoted wife. My life began with Ronnie, she told Vanity Fair magazine in 1998. The first lady's public life had its share of controversy but also earned the respect of the nation, making Nancy Reagan one of America's most admired women in the 1980s and beyond. Anne Frances Nancy Robbins was born on July 6, 1921 in New York City to Kenneth Robbins, a car salesman, and Edith Luckett Robbins, an actress. She met Ronald Reagan in 1950, when he was president of the Screen Actors Guild and she was seeking help with a problem: Her name had been wrongly included on a published list of suspected communist sympathizers. They discussed it over dinner, and she later wrote that she realized on that first blind date he was everything that I wanted. They wed two years later, on March 4, 1952. She was thrust into the political life when her husband ran for California governor in 1966 and won. She found it a surprisingly rough business. The movies were custard compared to politics, she said. The couple had two children together, Patricia Ann and Ronald Prescott. Reagan will be buried next to her late husband at the Ronald Reagan Presidential Library in Simi Valley, California. The New York Times has a full obituary here.Nancy Reagan Dead at 92\"},\n",
       " {'score': 0.003990157041698694,\n",
       "  'token': 20031,\n",
       "  'token_str': '91',\n",
       "  'sequence': \"Read the news article and fill in the mask in the last sentence. The answer is present in the text and it is a numeric value. (Mar 6, 2016 10:50 AM) Nancy Reagan, the helpmate, backstage adviser, and fierce protector of Ronald Reagan in his journey from actor to president—and finally during his 10-year battle with Alzheimer's disease—died Sunday at the age of 94, reports the AP, via CBS News. The cause was congestive heart failure, notes ABC News. In addition to her famous campaign against drugs, the one-time actress promoted several causes while she was in the White House and even in the years after. She was a passionate advocate for lifting restrictions on stem cell research and promoting better treatment of America's veterans. But above all, Nancy Reagan was a fiercely devoted wife. My life began with Ronnie, she told Vanity Fair magazine in 1998. The first lady's public life had its share of controversy but also earned the respect of the nation, making Nancy Reagan one of America's most admired women in the 1980s and beyond. Anne Frances Nancy Robbins was born on July 6, 1921 in New York City to Kenneth Robbins, a car salesman, and Edith Luckett Robbins, an actress. She met Ronald Reagan in 1950, when he was president of the Screen Actors Guild and she was seeking help with a problem: Her name had been wrongly included on a published list of suspected communist sympathizers. They discussed it over dinner, and she later wrote that she realized on that first blind date he was everything that I wanted. They wed two years later, on March 4, 1952. She was thrust into the political life when her husband ran for California governor in 1966 and won. She found it a surprisingly rough business. The movies were custard compared to politics, she said. The couple had two children together, Patricia Ann and Ronald Prescott. Reagan will be buried next to her late husband at the Ronald Reagan Presidential Library in Simi Valley, California. The New York Times has a full obituary here.Nancy Reagan Dead at 91\"}]"
      ]
     },
     "execution_count": 15,
     "metadata": {},
     "output_type": "execute_result"
    }
   ],
   "source": [
    "'''\n",
    "Model predictions\n",
    "'''\n",
    "classifier(prompt)"
   ]
  },
  {
   "cell_type": "code",
   "execution_count": 16,
   "id": "706e6594-b2cb-4790-836d-e89862c78107",
   "metadata": {},
   "outputs": [
    {
     "data": {
      "text/plain": [
       "\"Read the news article and fill in the mask in the last sentence. The answer is present in the text and it is a numeric value. (Sep 15, 2015  4:39 PM CDT) Three people died and others were injured today after a floatplane belonging to a fishing lodge crashed with 10 people on board in southwest Alaska, authorities said. Alaska State Troopers said the three dead were from outside the state. The injured passengers were being flown to Anchorage hospitals following the crash near the small community of Iliamna, 175 miles southwest of Anchorage. It's unclear how many people were hurt. Local residents said the plane belongs to the Rainbow King Lodge. Rescue personnel initially took injured passengers to the clinic in Iliamna. The plane crashed on takeoff at Eastwind Lake, 1 mile north of the community, according to Federal Aviation Administration spokesman Allen Kenitzer. It was a De Havilland DHC-3 Turbine Otter on floats, he said. The cause of the crash is not yet known. National Transportation Safety Board Alaska Chief Clint Johnson said the plane came to rest in some trees. Two NTSB investigators were heading to Iliamna later in the day, he said.<mask> Dead in Alaska Floatplane Crash\""
      ]
     },
     "execution_count": 16,
     "metadata": {},
     "output_type": "execute_result"
    }
   ],
   "source": [
    "'''\n",
    "Example 2\n",
    "'''\n",
    "X, Y = get_input_data(10)\n",
    "prompt = get_prompt(X)\n",
    "prompt"
   ]
  },
  {
   "cell_type": "code",
   "execution_count": 17,
   "id": "7c47bd26-9ba8-48d1-b186-b57f190ce79a",
   "metadata": {},
   "outputs": [
    {
     "data": {
      "text/plain": [
       "\"(Sep 15, 2015  4:39 PM CDT) Three people died and others were injured today after a floatplane belonging to a fishing lodge crashed with 10 people on board in southwest Alaska, authorities said. Alaska State Troopers said the three dead were from outside the state. The injured passengers were being flown to Anchorage hospitals following the crash near the small community of Iliamna, 175 miles southwest of Anchorage. It's unclear how many people were hurt. Local residents said the plane belongs to the Rainbow King Lodge. Rescue personnel initially took injured passengers to the clinic in Iliamna. The plane crashed on takeoff at Eastwind Lake, 1 mile north of the community, according to Federal Aviation Administration spokesman Allen Kenitzer. It was a De Havilland DHC-3 Turbine Otter on floats, he said. The cause of the crash is not yet known. National Transportation Safety Board Alaska Chief Clint Johnson said the plane came to rest in some trees. Two NTSB investigators were heading to Iliamna later in the day, he said.3 Dead in Alaska Floatplane Crash\""
      ]
     },
     "execution_count": 17,
     "metadata": {},
     "output_type": "execute_result"
    }
   ],
   "source": [
    "Y"
   ]
  },
  {
   "cell_type": "code",
   "execution_count": 18,
   "id": "856bffb3-7355-4c7d-9b3c-4cb14d306600",
   "metadata": {
    "scrolled": true,
    "tags": []
   },
   "outputs": [
    {
     "data": {
      "text/plain": [
       "[{'score': 0.2777342200279236,\n",
       "  'token': 2,\n",
       "  'token_str': '</s>',\n",
       "  'sequence': \"Read the news article and fill in the mask in the last sentence. The answer is present in the text and it is a numeric value. (Sep 15, 2015 4:39 PM CDT) Three people died and others were injured today after a floatplane belonging to a fishing lodge crashed with 10 people on board in southwest Alaska, authorities said. Alaska State Troopers said the three dead were from outside the state. The injured passengers were being flown to Anchorage hospitals following the crash near the small community of Iliamna, 175 miles southwest of Anchorage. It's unclear how many people were hurt. Local residents said the plane belongs to the Rainbow King Lodge. Rescue personnel initially took injured passengers to the clinic in Iliamna. The plane crashed on takeoff at Eastwind Lake, 1 mile north of the community, according to Federal Aviation Administration spokesman Allen Kenitzer. It was a De Havilland DHC-3 Turbine Otter on floats, he said. The cause of the crash is not yet known. National Transportation Safety Board Alaska Chief Clint Johnson said the plane came to rest in some trees. Two NTSB investigators were heading to Iliamna later in the day, he said. Dead in Alaska Floatplane Crash\"},\n",
       " {'score': 0.22302785515785217,\n",
       "  'token': 209,\n",
       "  'token_str': '10',\n",
       "  'sequence': \"Read the news article and fill in the mask in the last sentence. The answer is present in the text and it is a numeric value. (Sep 15, 2015 4:39 PM CDT) Three people died and others were injured today after a floatplane belonging to a fishing lodge crashed with 10 people on board in southwest Alaska, authorities said. Alaska State Troopers said the three dead were from outside the state. The injured passengers were being flown to Anchorage hospitals following the crash near the small community of Iliamna, 175 miles southwest of Anchorage. It's unclear how many people were hurt. Local residents said the plane belongs to the Rainbow King Lodge. Rescue personnel initially took injured passengers to the clinic in Iliamna. The plane crashed on takeoff at Eastwind Lake, 1 mile north of the community, according to Federal Aviation Administration spokesman Allen Kenitzer. It was a De Havilland DHC-3 Turbine Otter on floats, he said. The cause of the crash is not yet known. National Transportation Safety Board Alaska Chief Clint Johnson said the plane came to rest in some trees. Two NTSB investigators were heading to Iliamna later in the day, he said. 10 Dead in Alaska Floatplane Crash\"},\n",
       " {'score': 0.12200329452753067,\n",
       "  'token': 138,\n",
       "  'token_str': '3',\n",
       "  'sequence': \"Read the news article and fill in the mask in the last sentence. The answer is present in the text and it is a numeric value. (Sep 15, 2015 4:39 PM CDT) Three people died and others were injured today after a floatplane belonging to a fishing lodge crashed with 10 people on board in southwest Alaska, authorities said. Alaska State Troopers said the three dead were from outside the state. The injured passengers were being flown to Anchorage hospitals following the crash near the small community of Iliamna, 175 miles southwest of Anchorage. It's unclear how many people were hurt. Local residents said the plane belongs to the Rainbow King Lodge. Rescue personnel initially took injured passengers to the clinic in Iliamna. The plane crashed on takeoff at Eastwind Lake, 1 mile north of the community, according to Federal Aviation Administration spokesman Allen Kenitzer. It was a De Havilland DHC-3 Turbine Otter on floats, he said. The cause of the crash is not yet known. National Transportation Safety Board Alaska Chief Clint Johnson said the plane came to rest in some trees. Two NTSB investigators were heading to Iliamna later in the day, he said. 3 Dead in Alaska Floatplane Crash\"},\n",
       " {'score': 0.11605852097272873,\n",
       "  'token': 129335,\n",
       "  'token_str': 'Three',\n",
       "  'sequence': \"Read the news article and fill in the mask in the last sentence. The answer is present in the text and it is a numeric value. (Sep 15, 2015 4:39 PM CDT) Three people died and others were injured today after a floatplane belonging to a fishing lodge crashed with 10 people on board in southwest Alaska, authorities said. Alaska State Troopers said the three dead were from outside the state. The injured passengers were being flown to Anchorage hospitals following the crash near the small community of Iliamna, 175 miles southwest of Anchorage. It's unclear how many people were hurt. Local residents said the plane belongs to the Rainbow King Lodge. Rescue personnel initially took injured passengers to the clinic in Iliamna. The plane crashed on takeoff at Eastwind Lake, 1 mile north of the community, according to Federal Aviation Administration spokesman Allen Kenitzer. It was a De Havilland DHC-3 Turbine Otter on floats, he said. The cause of the crash is not yet known. National Transportation Safety Board Alaska Chief Clint Johnson said the plane came to rest in some trees. Two NTSB investigators were heading to Iliamna later in the day, he said. Three Dead in Alaska Floatplane Crash\"},\n",
       " {'score': 0.020509080961346626,\n",
       "  'token': 702,\n",
       "  'token_str': '13',\n",
       "  'sequence': \"Read the news article and fill in the mask in the last sentence. The answer is present in the text and it is a numeric value. (Sep 15, 2015 4:39 PM CDT) Three people died and others were injured today after a floatplane belonging to a fishing lodge crashed with 10 people on board in southwest Alaska, authorities said. Alaska State Troopers said the three dead were from outside the state. The injured passengers were being flown to Anchorage hospitals following the crash near the small community of Iliamna, 175 miles southwest of Anchorage. It's unclear how many people were hurt. Local residents said the plane belongs to the Rainbow King Lodge. Rescue personnel initially took injured passengers to the clinic in Iliamna. The plane crashed on takeoff at Eastwind Lake, 1 mile north of the community, according to Federal Aviation Administration spokesman Allen Kenitzer. It was a De Havilland DHC-3 Turbine Otter on floats, he said. The cause of the crash is not yet known. National Transportation Safety Board Alaska Chief Clint Johnson said the plane came to rest in some trees. Two NTSB investigators were heading to Iliamna later in the day, he said. 13 Dead in Alaska Floatplane Crash\"}]"
      ]
     },
     "execution_count": 18,
     "metadata": {},
     "output_type": "execute_result"
    }
   ],
   "source": [
    "'''\n",
    "Model predictions\n",
    "'''\n",
    "classifier(prompt)"
   ]
  },
  {
   "cell_type": "code",
   "execution_count": null,
   "id": "a0cfab48-928f-4fcd-9b7a-5c98933f8494",
   "metadata": {},
   "outputs": [],
   "source": []
  }
 ],
 "metadata": {
  "kernelspec": {
   "display_name": "Python 3 (ipykernel)",
   "language": "python",
   "name": "python3"
  },
  "language_info": {
   "codemirror_mode": {
    "name": "ipython",
    "version": 3
   },
   "file_extension": ".py",
   "mimetype": "text/x-python",
   "name": "python",
   "nbconvert_exporter": "python",
   "pygments_lexer": "ipython3",
   "version": "3.9.12"
  }
 },
 "nbformat": 4,
 "nbformat_minor": 5
}
